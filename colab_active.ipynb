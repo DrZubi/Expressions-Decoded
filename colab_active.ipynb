{
 "cells": [
  {
   "cell_type": "code",
   "execution_count": null,
   "id": "97bec35f",
   "metadata": {},
   "outputs": [],
   "source": [
    "import pyautogui\n",
    "import time\n",
    "\n",
    "\n",
    "def keep_colab_alive(interval_minutes=5):\n",
    "    \"\"\"\n",
    "    Simulate mouse movement and clicks to prevent Google Colab from disconnecting.\n",
    "    \n",
    "    :param interval_minutes: The interval in minutes between simulated actions.\n",
    "    \"\"\"\n",
    "    interval_seconds = interval_minutes * 60\n",
    "    \n",
    "    while True:\n",
    "        # Move the mouse to a random position on the screen\n",
    "        pyautogui.moveTo(100, 100)\n",
    "        time.sleep(1)  # Wait for 1 second\n",
    "        pyautogui.moveTo(200, 200)\n",
    "        time.sleep(1)  # Wait for 1 second\n",
    "\n",
    "        # Click the mouse at the new position\n",
    "        pyautogui.click()\n",
    "        time.sleep(1)  # Wait for 1 second\n",
    "\n",
    "        # Wait for the specified interval before repeating\n",
    "        time.sleep(interval_seconds)\n",
    "\n",
    "# Call the function with the desired interval (e.g., every 5 minutes)\n",
    "keep_colab_alive(interval_minutes=5)\n"
   ]
  },
  {
   "cell_type": "code",
   "execution_count": null,
   "id": "5b877bea",
   "metadata": {},
   "outputs": [],
   "source": []
  },
  {
   "cell_type": "code",
   "execution_count": null,
   "id": "8f1ccab3",
   "metadata": {},
   "outputs": [],
   "source": []
  }
 ],
 "metadata": {
  "kernelspec": {
   "display_name": "Python 3 (ipykernel)",
   "language": "python",
   "name": "python3"
  },
  "language_info": {
   "codemirror_mode": {
    "name": "ipython",
    "version": 3
   },
   "file_extension": ".py",
   "mimetype": "text/x-python",
   "name": "python",
   "nbconvert_exporter": "python",
   "pygments_lexer": "ipython3",
   "version": "3.11.9"
  }
 },
 "nbformat": 4,
 "nbformat_minor": 5
}
